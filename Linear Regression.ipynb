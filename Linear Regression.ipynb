{
 "cells": [
  {
   "cell_type": "code",
   "execution_count": 2,
   "metadata": {},
   "outputs": [],
   "source": [
    "# Data Pre-processing"
   ]
  },
  {
   "cell_type": "code",
   "execution_count": 21,
   "metadata": {},
   "outputs": [
    {
     "data": {
      "text/html": [
       "<div>\n",
       "<style scoped>\n",
       "    .dataframe tbody tr th:only-of-type {\n",
       "        vertical-align: middle;\n",
       "    }\n",
       "\n",
       "    .dataframe tbody tr th {\n",
       "        vertical-align: top;\n",
       "    }\n",
       "\n",
       "    .dataframe thead th {\n",
       "        text-align: right;\n",
       "    }\n",
       "</style>\n",
       "<table border=\"1\" class=\"dataframe\">\n",
       "  <thead>\n",
       "    <tr style=\"text-align: right;\">\n",
       "      <th></th>\n",
       "      <th>YearsExperience</th>\n",
       "      <th>Salary</th>\n",
       "    </tr>\n",
       "  </thead>\n",
       "  <tbody>\n",
       "    <tr>\n",
       "      <th>0</th>\n",
       "      <td>1.1</td>\n",
       "      <td>39343.0</td>\n",
       "    </tr>\n",
       "    <tr>\n",
       "      <th>1</th>\n",
       "      <td>1.3</td>\n",
       "      <td>46205.0</td>\n",
       "    </tr>\n",
       "    <tr>\n",
       "      <th>2</th>\n",
       "      <td>1.5</td>\n",
       "      <td>37731.0</td>\n",
       "    </tr>\n",
       "    <tr>\n",
       "      <th>3</th>\n",
       "      <td>2.0</td>\n",
       "      <td>43525.0</td>\n",
       "    </tr>\n",
       "    <tr>\n",
       "      <th>4</th>\n",
       "      <td>2.2</td>\n",
       "      <td>39891.0</td>\n",
       "    </tr>\n",
       "    <tr>\n",
       "      <th>5</th>\n",
       "      <td>2.9</td>\n",
       "      <td>56642.0</td>\n",
       "    </tr>\n",
       "    <tr>\n",
       "      <th>6</th>\n",
       "      <td>3.0</td>\n",
       "      <td>60150.0</td>\n",
       "    </tr>\n",
       "    <tr>\n",
       "      <th>7</th>\n",
       "      <td>3.2</td>\n",
       "      <td>54445.0</td>\n",
       "    </tr>\n",
       "    <tr>\n",
       "      <th>8</th>\n",
       "      <td>3.2</td>\n",
       "      <td>64445.0</td>\n",
       "    </tr>\n",
       "    <tr>\n",
       "      <th>9</th>\n",
       "      <td>3.7</td>\n",
       "      <td>57189.0</td>\n",
       "    </tr>\n",
       "    <tr>\n",
       "      <th>10</th>\n",
       "      <td>3.9</td>\n",
       "      <td>63218.0</td>\n",
       "    </tr>\n",
       "    <tr>\n",
       "      <th>11</th>\n",
       "      <td>4.0</td>\n",
       "      <td>55794.0</td>\n",
       "    </tr>\n",
       "    <tr>\n",
       "      <th>12</th>\n",
       "      <td>4.0</td>\n",
       "      <td>56957.0</td>\n",
       "    </tr>\n",
       "    <tr>\n",
       "      <th>13</th>\n",
       "      <td>4.1</td>\n",
       "      <td>57081.0</td>\n",
       "    </tr>\n",
       "    <tr>\n",
       "      <th>14</th>\n",
       "      <td>4.5</td>\n",
       "      <td>61111.0</td>\n",
       "    </tr>\n",
       "    <tr>\n",
       "      <th>15</th>\n",
       "      <td>4.9</td>\n",
       "      <td>67938.0</td>\n",
       "    </tr>\n",
       "    <tr>\n",
       "      <th>16</th>\n",
       "      <td>5.1</td>\n",
       "      <td>66029.0</td>\n",
       "    </tr>\n",
       "    <tr>\n",
       "      <th>17</th>\n",
       "      <td>5.3</td>\n",
       "      <td>83088.0</td>\n",
       "    </tr>\n",
       "    <tr>\n",
       "      <th>18</th>\n",
       "      <td>5.9</td>\n",
       "      <td>81363.0</td>\n",
       "    </tr>\n",
       "    <tr>\n",
       "      <th>19</th>\n",
       "      <td>6.0</td>\n",
       "      <td>93940.0</td>\n",
       "    </tr>\n",
       "    <tr>\n",
       "      <th>20</th>\n",
       "      <td>6.8</td>\n",
       "      <td>91738.0</td>\n",
       "    </tr>\n",
       "    <tr>\n",
       "      <th>21</th>\n",
       "      <td>7.1</td>\n",
       "      <td>98273.0</td>\n",
       "    </tr>\n",
       "    <tr>\n",
       "      <th>22</th>\n",
       "      <td>7.9</td>\n",
       "      <td>101302.0</td>\n",
       "    </tr>\n",
       "    <tr>\n",
       "      <th>23</th>\n",
       "      <td>8.2</td>\n",
       "      <td>113812.0</td>\n",
       "    </tr>\n",
       "    <tr>\n",
       "      <th>24</th>\n",
       "      <td>8.7</td>\n",
       "      <td>109431.0</td>\n",
       "    </tr>\n",
       "    <tr>\n",
       "      <th>25</th>\n",
       "      <td>9.0</td>\n",
       "      <td>105582.0</td>\n",
       "    </tr>\n",
       "    <tr>\n",
       "      <th>26</th>\n",
       "      <td>9.5</td>\n",
       "      <td>116969.0</td>\n",
       "    </tr>\n",
       "    <tr>\n",
       "      <th>27</th>\n",
       "      <td>9.6</td>\n",
       "      <td>112635.0</td>\n",
       "    </tr>\n",
       "    <tr>\n",
       "      <th>28</th>\n",
       "      <td>10.3</td>\n",
       "      <td>122391.0</td>\n",
       "    </tr>\n",
       "    <tr>\n",
       "      <th>29</th>\n",
       "      <td>10.5</td>\n",
       "      <td>121872.0</td>\n",
       "    </tr>\n",
       "  </tbody>\n",
       "</table>\n",
       "</div>"
      ],
      "text/plain": [
       "    YearsExperience    Salary\n",
       "0               1.1   39343.0\n",
       "1               1.3   46205.0\n",
       "2               1.5   37731.0\n",
       "3               2.0   43525.0\n",
       "4               2.2   39891.0\n",
       "5               2.9   56642.0\n",
       "6               3.0   60150.0\n",
       "7               3.2   54445.0\n",
       "8               3.2   64445.0\n",
       "9               3.7   57189.0\n",
       "10              3.9   63218.0\n",
       "11              4.0   55794.0\n",
       "12              4.0   56957.0\n",
       "13              4.1   57081.0\n",
       "14              4.5   61111.0\n",
       "15              4.9   67938.0\n",
       "16              5.1   66029.0\n",
       "17              5.3   83088.0\n",
       "18              5.9   81363.0\n",
       "19              6.0   93940.0\n",
       "20              6.8   91738.0\n",
       "21              7.1   98273.0\n",
       "22              7.9  101302.0\n",
       "23              8.2  113812.0\n",
       "24              8.7  109431.0\n",
       "25              9.0  105582.0\n",
       "26              9.5  116969.0\n",
       "27              9.6  112635.0\n",
       "28             10.3  122391.0\n",
       "29             10.5  121872.0"
      ]
     },
     "execution_count": 21,
     "metadata": {},
     "output_type": "execute_result"
    }
   ],
   "source": [
    "import numpy as np\n",
    "import pandas as pd\n",
    "import matplotlib.pyplot as plt\n",
    "\n",
    "dset=pd.read_csv(r\"C:\\Users\\rajin\\Desktop\\Python ML Internship\\Employee_Salary_Data.csv\")\n",
    "dset"
   ]
  },
  {
   "cell_type": "code",
   "execution_count": 22,
   "metadata": {},
   "outputs": [],
   "source": [
    "# Retrieving independent variables (X) and dependent variables (y) all the rows with specific columns\n",
    "# iloc[range_of_rows, range_of_columns]\n",
    "\n",
    "# years of experience  --> independent (dataframe)\n",
    "X=dset.iloc[:, :-1].values\n",
    "\n",
    "# salary  --> dependent (series)\n",
    "y=dset.iloc[:, -1].values"
   ]
  },
  {
   "cell_type": "code",
   "execution_count": 23,
   "metadata": {},
   "outputs": [],
   "source": [
    "# Splitting the dataset into training and testing data\n",
    "# using SciKit-Learn (Scientific Kit and learning library)library --> gives Machine Learning models in python\n",
    "# sklearn module--> submodule model_selection --> class train_test_split\n",
    "# this divides the entire data into 4 parts i.e. Xtrain, Xtest, ytrain, ytest\n",
    "# test_size=1/3 or 33.33% of entire data\n",
    "# --> 33.33% of 30 rows = any 10 rows of the dataset can be chosen as the testing data\n",
    "# and rest 20 rows are taken in training data\n",
    "\n",
    "from sklearn.model_selection import train_test_split\n",
    "X_train, X_test, y_train, y_test=train_test_split(X,y, test_size=1/3, random_state=0)\n"
   ]
  },
  {
   "cell_type": "code",
   "execution_count": 26,
   "metadata": {},
   "outputs": [
    {
     "name": "stdout",
     "output_type": "stream",
     "text": [
      "[[ 2.9]\n",
      " [ 5.1]\n",
      " [ 3.2]\n",
      " [ 4.5]\n",
      " [ 8.2]\n",
      " [ 6.8]\n",
      " [ 1.3]\n",
      " [10.5]\n",
      " [ 3. ]\n",
      " [ 2.2]\n",
      " [ 5.9]\n",
      " [ 6. ]\n",
      " [ 3.7]\n",
      " [ 3.2]\n",
      " [ 9. ]\n",
      " [ 2. ]\n",
      " [ 1.1]\n",
      " [ 7.1]\n",
      " [ 4.9]\n",
      " [ 4. ]] [ 56642.  66029.  64445.  61111. 113812.  91738.  46205. 121872.  60150.\n",
      "  39891.  81363.  93940.  57189.  54445. 105582.  43525.  39343.  98273.\n",
      "  67938.  56957.]\n"
     ]
    }
   ],
   "source": [
    "print(X_train, y_train)     # 20 values"
   ]
  },
  {
   "cell_type": "code",
   "execution_count": 27,
   "metadata": {},
   "outputs": [
    {
     "name": "stdout",
     "output_type": "stream",
     "text": [
      "[[ 1.5]\n",
      " [10.3]\n",
      " [ 4.1]\n",
      " [ 3.9]\n",
      " [ 9.5]\n",
      " [ 8.7]\n",
      " [ 9.6]\n",
      " [ 4. ]\n",
      " [ 5.3]\n",
      " [ 7.9]] [ 37731. 122391.  57081.  63218. 116969. 109431. 112635.  55794.  83088.\n",
      " 101302.]\n"
     ]
    }
   ],
   "source": [
    "print(X_test, y_test)   # 10 rows"
   ]
  },
  {
   "cell_type": "code",
   "execution_count": 29,
   "metadata": {},
   "outputs": [
    {
     "data": {
      "text/plain": [
       "LinearRegression(copy_X=True, fit_intercept=True, n_jobs=None, normalize=False)"
      ]
     },
     "execution_count": 29,
     "metadata": {},
     "output_type": "execute_result"
    }
   ],
   "source": [
    "# Training the simple Linear Regression Model on Training data\n",
    "\n",
    "from sklearn.linear_model import LinearRegression\n",
    "\n",
    "# Create an object of the class LinearRegression class\n",
    "# the object is named as 'regressor' and the constructor of LinearRegression class is called\n",
    "# this object is used to train the data set\n",
    "\n",
    "regressor=LinearRegression()\n",
    "\n",
    "# now using the fit() method of the LinearRegression class\n",
    "# the machine learns the training data of x and y\n",
    "# fit() method links the regressor object with the training data\n",
    "regressor.fit(X_train, y_train)"
   ]
  },
  {
   "cell_type": "code",
   "execution_count": 32,
   "metadata": {},
   "outputs": [
    {
     "data": {
      "image/png": "[encoded data removed]",
      "text/plain": [
       "<Figure size 432x288 with 1 Axes>"
      ]
     },
     "metadata": {
      "needs_background": "light"
     },
     "output_type": "display_data"
    }
   ],
   "source": [
    "# Visualise the results of training data\n",
    "# Plot a scatter plot out of training data\n",
    "\n",
    "plt.scatter(X_train, y_train, color='g')\n",
    "plt.show()"
   ]
  },
  {
   "cell_type": "code",
   "execution_count": 35,
   "metadata": {},
   "outputs": [
    {
     "data": {
      "image/png": "[encoded data removed]",
      "text/plain": [
       "<Figure size 432x288 with 1 Axes>"
      ]
     },
     "metadata": {
      "needs_background": "light"
     },
     "output_type": "display_data"
    }
   ],
   "source": [
    "# To create the line of best fit/ trend line/ regressor line \n",
    "# in the scatter plot which is at min distance from all the data points\n",
    "# the lines joining the corresponding predicted points by the machine\n",
    "# X_train is taken common\n",
    "\n",
    "plt.scatter(X_train, y_train, color='g')\n",
    "# In the line chart we take the corresponding predicted values\n",
    "# done using regressor.predict() method --> values predicted by the machine against the training x data\n",
    "\n",
    "plt.plot(X_train, regressor.predict(X_train), color='r')\n",
    "plt.xlabel('Years of experience')\n",
    "plt.ylabel('Salary')\n",
    "plt.title('Salary vs Experience (Training DataSet)')\n",
    "plt.show()"
   ]
  },
  {
   "cell_type": "code",
   "execution_count": 38,
   "metadata": {},
   "outputs": [
    {
     "data": {
      "image/png": "[encoded data removed]",
      "text/plain": [
       "<Figure size 432x288 with 1 Axes>"
      ]
     },
     "metadata": {
      "needs_background": "light"
     },
     "output_type": "display_data"
    }
   ],
   "source": [
    "# Visualise the results of testing data\n",
    "# Scatter plot will show the real salaries from the testing dataset\n",
    "plt.scatter(X_test, y_test, color='g')\n",
    "\n",
    "# Now we have to plot the line plot of the training data predicted by machine\n",
    "# and check if it works well in the same way for the testing data also\n",
    "plt.plot(X_train, regressor.predict(X_train), color='r')\n",
    "plt.xlabel('Years of experience')\n",
    "plt.ylabel('Salary')\n",
    "plt.title('Salary vs Experience (Testing DataSet)')\n",
    "plt.show()"
   ]
  },
  {
   "cell_type": "code",
   "execution_count": 40,
   "metadata": {},
   "outputs": [
    {
     "name": "stdout",
     "output_type": "stream",
     "text": [
      "[64199.96201652]\n",
      "[92237.78934589]\n"
     ]
    }
   ],
   "source": [
    "# After training and testing, we have to predict for new values of y for x\n",
    "ypred1=regressor.predict([[4]])\n",
    "print(ypred1)\n",
    "\n",
    "ypred2=regressor.predict([[7]])\n",
    "print(ypred2)"
   ]
  },
  {
   "cell_type": "code",
   "execution_count": 41,
   "metadata": {},
   "outputs": [
    {
     "name": "stdout",
     "output_type": "stream",
     "text": [
      "[ 40835.10590871 123079.39940819  65134.55626083  63265.36777221\n",
      " 115602.64545369 108125.8914992  116537.23969801  64199.96201652\n",
      "  76349.68719258 100649.1375447 ]\n"
     ]
    }
   ],
   "source": [
    "# predicting the values for the entire testing data\n",
    "ypred3=regressor.predict(X_test)\n",
    "print(ypred3)"
   ]
  },
  {
   "cell_type": "code",
   "execution_count": 43,
   "metadata": {},
   "outputs": [
    {
     "name": "stdout",
     "output_type": "stream",
     "text": [
      "[ 37096.72893147  38965.91742009  40835.10590871  45508.07713028\n",
      "  47377.2656189   53919.42532909  54854.0195734   56723.20806202\n",
      "  56723.20806202  61396.17928358  63265.36777221  64199.96201652\n",
      "  64199.96201652  65134.55626083  68872.93323808  72611.31021533\n",
      "  74480.49870396  76349.68719258  81957.25265845  82891.84690277\n",
      "  90368.60085726  93172.3835902  100649.1375447  103452.92027763\n",
      " 108125.8914992  110929.67423213 115602.64545369 116537.23969801\n",
      " 123079.39940819 124948.58789682]\n"
     ]
    }
   ],
   "source": [
    "# predicting for the entire dataset\n",
    "ypred_all=regressor.predict(X)\n",
    "print(ypred_all)"
   ]
  },
  {
   "cell_type": "code",
   "execution_count": 46,
   "metadata": {},
   "outputs": [
    {
     "name": "stdout",
     "output_type": "stream",
     "text": [
      "[9345.94244312]\n",
      "26816.19224403119\n"
     ]
    }
   ],
   "source": [
    "# To get the values of coefficients in the Linear Regression Equation\n",
    "# y=m.x+c    or   y=B0+B1.x\n",
    "\n",
    "print(regressor.coef_)\n",
    "print(regressor.intercept_)"
   ]
  },
  {
   "cell_type": "code",
   "execution_count": 47,
   "metadata": {},
   "outputs": [],
   "source": [
    "# Final equation of the simple linear regression model is:\n",
    "# y=m.x+c\n",
    "# y(Salary) = regressor.coef_ . x(years of experience) + regressor.intercept_\n",
    "# y = 9345.92 * x + 26816.192"
   ]
  },
  {
   "cell_type": "code",
   "execution_count": 55,
   "metadata": {},
   "outputs": [
    {
     "name": "stdout",
     "output_type": "stream",
     "text": [
      "R squared :0.96\n"
     ]
    }
   ],
   "source": [
    "# Model evaluation\n",
    "# R-squared error\n",
    "print('R squared :{:.2f}'.format(regressor.score(X,y)))"
   ]
  },
  {
   "cell_type": "code",
   "execution_count": 64,
   "metadata": {},
   "outputs": [
    {
     "name": "stdout",
     "output_type": "stream",
     "text": [
      "MSE: 31577311.6194268\n",
      "R-squared error: 0.9565349708076958\n",
      "Slope(m): 9345.94244312237\n",
      "Intercept(c): 26816.19224403119\n"
     ]
    }
   ],
   "source": [
    "from sklearn.metrics import mean_squared_error, r2_score\n",
    "\n",
    "# calculating MSE\n",
    "# y --- original values\n",
    "# yped_all --- predicted values\n",
    "mse=mean_squared_error(y, ypred_all)\n",
    "print(f\"MSE: {mse}\")\n",
    "\n",
    "r_squared=r2_score(y, ypred_all)\n",
    "print(f\"R-squared error: {r_squared}\")\n",
    "print(f\"Slope(m): {regressor.coef_[0]}\")\n",
    "print(f\"Intercept(c): {regressor.intercept_}\")"
   ]
  },
  {
   "cell_type": "code",
   "execution_count": 66,
   "metadata": {},
   "outputs": [
    {
     "data": {
      "text/plain": [
       "97.49154407708353"
      ]
     },
     "execution_count": 66,
     "metadata": {},
     "output_type": "execute_result"
    }
   ],
   "source": [
    "# r square value on testing data\n",
    "regressor.score(X_test, y_test)*100   "
   ]
  },
  {
   "cell_type": "code",
   "execution_count": 8,
   "metadata": {},
   "outputs": [],
   "source": [
    "# Optimisation using Gradient Descent\n",
    "import numpy as np\n",
    "import pandas as pd\n",
    "import matplotlib.pyplot as plt\n",
    "\n",
    "dset=pd.read_csv(r\"C:\\Users\\rajin\\Desktop\\Python ML Internship\\Employee_Salary_Data.csv\")\n",
    "X=dset.iloc[:, 0]\n",
    "y=dset.iloc[:, 1]"
   ]
  },
  {
   "cell_type": "code",
   "execution_count": 14,
   "metadata": {},
   "outputs": [],
   "source": [
    "# Initialize the parameters\n",
    "m=0.0\n",
    "c=0.0\n",
    "alpha=0.01 #(we will reduce it as we are going to descent)\n",
    "iterations=10000\n",
    "N=len(y)   # no of data points/observations (salary)"
   ]
  },
  {
   "cell_type": "code",
   "execution_count": 15,
   "metadata": {},
   "outputs": [
    {
     "data": {
      "text/plain": [
       "(9449.962321455143, 25792.20019866825)"
      ]
     },
     "execution_count": 15,
     "metadata": {},
     "output_type": "execute_result"
    }
   ],
   "source": [
    "# Gradient Descent Algorithm\n",
    "# this is applied on entire dataset\n",
    "for _ in range(iterations):  \n",
    "    ypred=m*X+c\n",
    "    dm=(-2/N)*np.sum(X*(y-ypred))\n",
    "    dc=(-2/N)*np.sum(y-ypred)\n",
    "    # update the values of m,c\n",
    "    m=m-alpha*dm\n",
    "    c=c-alpha*dc\n",
    "    \n",
    "m,c"
   ]
  },
  {
   "cell_type": "code",
   "execution_count": 17,
   "metadata": {},
   "outputs": [
    {
     "data": {
      "text/plain": [
       "63592.04948448882"
      ]
     },
     "execution_count": 17,
     "metadata": {},
     "output_type": "execute_result"
    }
   ],
   "source": [
    "# Making predictions\n",
    "def predict(yrs_of_exp):\n",
    "    return m*yrs_of_exp+c     # y=mx+c\n",
    "\n",
    "pred_sal=predict(4)\n",
    "pred_sal # 64199 (OLS) --> companies money is saved"
   ]
  },
  {
   "cell_type": "code",
   "execution_count": 19,
   "metadata": {},
   "outputs": [
    {
     "name": "stdout",
     "output_type": "stream",
     "text": [
      "Mean squared error:\n",
      " 1000000.0\n"
     ]
    }
   ],
   "source": [
    "yactual=np.array([45000,50000,60000,65000,70000])\n",
    "ypred=np.array([46000,51000,59000,64000,71000])\n",
    "\n",
    "mse=np.mean((yactual-ypred)**2)\n",
    "print(\"Mean squared error:\\n\", mse)"
   ]
  },
  {
   "cell_type": "code",
   "execution_count": 38,
   "metadata": {},
   "outputs": [
    {
     "name": "stdout",
     "output_type": "stream",
     "text": [
      "95.69566641435085\n",
      "31270951.72228094\n"
     ]
    }
   ],
   "source": [
    "import math\n",
    "pred_salary=m*X+c\n",
    "r_squared=1-(np.sum((y-pred_salary)**2)/np.sum((y-np.mean(y))**2))\n",
    "print(r_squared*100)\n",
    "\n",
    "mse=np.mean((y-pred_salary)**2)\n",
    "print(mse)"
   ]
  },
  {
   "cell_type": "code",
   "execution_count": 41,
   "metadata": {},
   "outputs": [
    {
     "data": {
      "image/png": "[encoded data removed]",
      "text/plain": [
       "<Figure size 432x288 with 1 Axes>"
      ]
     },
     "metadata": {
      "needs_background": "light"
     },
     "output_type": "display_data"
    }
   ],
   "source": [
    "ypred=m*X+c\n",
    "# minx is plotted corresponding to ypred\n",
    "plt.scatter(X,y)\n",
    "plt.plot([min(X), max(X)], [min(ypred), max(ypred)], color='r')\n",
    "plt.show()"
   ]
  },
  {
   "cell_type": "code",
   "execution_count": null,
   "metadata": {},
   "outputs": [],
   "source": []
  }
 ],
 "metadata": {
  "kernelspec": {
   "display_name": "Python 3",
   "language": "python",
   "name": "python3"
  },
  "language_info": {
   "codemirror_mode": {
    "name": "ipython",
    "version": 3
   },
   "file_extension": ".py",
   "mimetype": "text/x-python",
   "name": "python",
   "nbconvert_exporter": "python",
   "pygments_lexer": "ipython3",
   "version": "3.7.6"
  }
 },
 "nbformat": 4,
 "nbformat_minor": 4
}
